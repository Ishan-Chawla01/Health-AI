{
 "cells": [
  {
   "cell_type": "markdown",
   "metadata": {
    "id": "iIDXUkMElkDd"
   },
   "source": [
    "# Data Preprocessing"
   ]
  },
  {
   "cell_type": "markdown",
   "metadata": {
    "id": "Hj40LjUilpix"
   },
   "source": [
    "## Importing the libraries"
   ]
  },
  {
   "cell_type": "code",
   "execution_count": 58,
   "metadata": {
    "executionInfo": {
     "elapsed": 1017,
     "status": "ok",
     "timestamp": 1611300375169,
     "user": {
      "displayName": "Atulya Kaushik",
      "photoUrl": "https://lh3.googleusercontent.com/a-/AOh14GgbdwwtUpDI6_ZCGNIh_WpVOrowFtjkOnV0PDGRUWfnsvK4VOwoMydLWUomfyM93wzmkYH2oqgNx5NSLSqCwoa5HZ_KxBpxL8GxQN8uRRDtlp3SF7wcGYbFZFH_-wGv0M1O2KeXvqvdFVMbO6RtG-EVC107IWjfYnisZUkM8Ja7dYlgfg4vGCuvxwSpOugEk-_tMkYzsphay8tNHrgG3yrTaxohPhYsZbAYi0JYfNJnfnJYtEefnN4DdpWwdMTR43XXEBkaNd2LOQ028uNa_dzM7_uFvPdiDJR7PXxt-BCtPa8KomMuLBFrxIZKJqikEr2mcXIK48msRSqnv4NsCFrkm5g7s_Sge09Qq5EbIJAVAlOygWUQ0rMQIi9PF-V5XchFYE7NxNmbEEWkHF2jj0zT_kMkV88DczewQCR-WVi0n_305dr7FNXptxwcp7Nc6FBrRIG33V_jElFZ9O7HrCG67QwhPeYVes0O0e48_eWU6XRxbkezYrcKRLDy047B0SHj1Ng96rQxd_YKoFAAgRqMCNunHXMQHQ5OKQv8uF8GnQ7llWSeYGkR14TPX3tWV5Qxy0fsbd3nhuKIvQe69YToY7HH5zp3JHSFbFvzCqvlDe-d2oOp0QPzN0ox3WYd1tJS6GyQ-r161Rq-5kA3Vusn7LzIL1hFwlRAfxH3j9uaHg4INCKONjhLm5c_IS-Pi64UL_tjiJM36PrtNUaQcS8-6y6qtDblN_Zg0r79t3D6gZ6OybTyIR8lOupyUc1BJIe4Eg=s64",
      "userId": "16390917540151948122"
     },
     "user_tz": -330
    },
    "id": "cRg-5igLuoiI"
   },
   "outputs": [],
   "source": [
    "import numpy as np\n",
    "import matplotlib.pyplot as plt\n",
    "import pandas as pd"
   ]
  },
  {
   "cell_type": "markdown",
   "metadata": {
    "id": "zApSnwUkl9eD"
   },
   "source": [
    "## Importing Dataset"
   ]
  },
  {
   "cell_type": "code",
   "execution_count": 59,
   "metadata": {
    "executionInfo": {
     "elapsed": 1033,
     "status": "ok",
     "timestamp": 1611300378204,
     "user": {
      "displayName": "Atulya Kaushik",
      "photoUrl": "https://lh3.googleusercontent.com/a-/AOh14GgbdwwtUpDI6_ZCGNIh_WpVOrowFtjkOnV0PDGRUWfnsvK4VOwoMydLWUomfyM93wzmkYH2oqgNx5NSLSqCwoa5HZ_KxBpxL8GxQN8uRRDtlp3SF7wcGYbFZFH_-wGv0M1O2KeXvqvdFVMbO6RtG-EVC107IWjfYnisZUkM8Ja7dYlgfg4vGCuvxwSpOugEk-_tMkYzsphay8tNHrgG3yrTaxohPhYsZbAYi0JYfNJnfnJYtEefnN4DdpWwdMTR43XXEBkaNd2LOQ028uNa_dzM7_uFvPdiDJR7PXxt-BCtPa8KomMuLBFrxIZKJqikEr2mcXIK48msRSqnv4NsCFrkm5g7s_Sge09Qq5EbIJAVAlOygWUQ0rMQIi9PF-V5XchFYE7NxNmbEEWkHF2jj0zT_kMkV88DczewQCR-WVi0n_305dr7FNXptxwcp7Nc6FBrRIG33V_jElFZ9O7HrCG67QwhPeYVes0O0e48_eWU6XRxbkezYrcKRLDy047B0SHj1Ng96rQxd_YKoFAAgRqMCNunHXMQHQ5OKQv8uF8GnQ7llWSeYGkR14TPX3tWV5Qxy0fsbd3nhuKIvQe69YToY7HH5zp3JHSFbFvzCqvlDe-d2oOp0QPzN0ox3WYd1tJS6GyQ-r161Rq-5kA3Vusn7LzIL1hFwlRAfxH3j9uaHg4INCKONjhLm5c_IS-Pi64UL_tjiJM36PrtNUaQcS8-6y6qtDblN_Zg0r79t3D6gZ6OybTyIR8lOupyUc1BJIe4Eg=s64",
      "userId": "16390917540151948122"
     },
     "user_tz": -330
    },
    "id": "mjAi2fGLvGvK"
   },
   "outputs": [],
   "source": [
    "data_set = pd.read_csv('Covid_Data.csv')\n",
    "X = data_set.iloc[:, :-1].values\n",
    "y = data_set.iloc[:, -1].values"
   ]
  },
  {
   "cell_type": "code",
   "execution_count": null,
   "metadata": {
    "colab": {
     "base_uri": "https://localhost:8080/"
    },
    "executionInfo": {
     "elapsed": 1020,
     "status": "ok",
     "timestamp": 1611300380138,
     "user": {
      "displayName": "Atulya Kaushik",
      "photoUrl": "https://lh3.googleusercontent.com/a-/AOh14GgbdwwtUpDI6_ZCGNIh_WpVOrowFtjkOnV0PDGRUWfnsvK4VOwoMydLWUomfyM93wzmkYH2oqgNx5NSLSqCwoa5HZ_KxBpxL8GxQN8uRRDtlp3SF7wcGYbFZFH_-wGv0M1O2KeXvqvdFVMbO6RtG-EVC107IWjfYnisZUkM8Ja7dYlgfg4vGCuvxwSpOugEk-_tMkYzsphay8tNHrgG3yrTaxohPhYsZbAYi0JYfNJnfnJYtEefnN4DdpWwdMTR43XXEBkaNd2LOQ028uNa_dzM7_uFvPdiDJR7PXxt-BCtPa8KomMuLBFrxIZKJqikEr2mcXIK48msRSqnv4NsCFrkm5g7s_Sge09Qq5EbIJAVAlOygWUQ0rMQIi9PF-V5XchFYE7NxNmbEEWkHF2jj0zT_kMkV88DczewQCR-WVi0n_305dr7FNXptxwcp7Nc6FBrRIG33V_jElFZ9O7HrCG67QwhPeYVes0O0e48_eWU6XRxbkezYrcKRLDy047B0SHj1Ng96rQxd_YKoFAAgRqMCNunHXMQHQ5OKQv8uF8GnQ7llWSeYGkR14TPX3tWV5Qxy0fsbd3nhuKIvQe69YToY7HH5zp3JHSFbFvzCqvlDe-d2oOp0QPzN0ox3WYd1tJS6GyQ-r161Rq-5kA3Vusn7LzIL1hFwlRAfxH3j9uaHg4INCKONjhLm5c_IS-Pi64UL_tjiJM36PrtNUaQcS8-6y6qtDblN_Zg0r79t3D6gZ6OybTyIR8lOupyUc1BJIe4Eg=s64",
      "userId": "16390917540151948122"
     },
     "user_tz": -330
    },
    "id": "mzP3JFLXwfG3",
    "outputId": "3f7fe94e-0bb3-48f8-d426-9acae97b3ca5"
   },
   "outputs": [
    {
     "name": "stdout",
     "output_type": "stream",
     "text": [
      "[[10.0 'Moderate' 'no' 'no' 97.0]\n",
      " [12.0 'Moderate' 'no' 'no' 97.0]\n",
      " [15.0 'Moderate' 'no' 'no' 94.0]\n",
      " [10.0 'Moderate' 'no' 'no' 97.0]\n",
      " [13.0 'Moderate' 'no' 'no' 94.0]\n",
      " [12.0 'Moderate' 'no' 'no' 97.0]\n",
      " [13.0 'Moderate' 'no' 'no' 93.0]\n",
      " [15.0 'Moderate' 'no' 'no' 92.0]\n",
      " [18.0 'Moderate' 'no' 'no' 66.0]\n",
      " [19.0 'Moderate' 'no' 'no' 92.0]\n",
      " [20.0 'Moderate' 'no' 'no' 93.0]\n",
      " [17.0 'Moderate' 'no' 'no' 93.0]\n",
      " [16.0 'Moderate' 'no' 'no' 92.0]\n",
      " [18.0 'Moderate' 'no' 'no' 93.0]\n",
      " [20.0 'Moderate' 'no' 'no' 92.0]\n",
      " [25.0 'Moderate' 'no' 'no' 93.0]\n",
      " [24.0 'Moderate' 'no' 'no' 92.0]\n",
      " [26.0 'High' 'no' 'no' 94.0]\n",
      " [28.0 'Moderate' 'no' 'no' 99.0]\n",
      " [29.0 'Moderate' 'no' 'no' 93.0]\n",
      " [30.0 'Moderate' 'no' 'no' 62.0]\n",
      " [19.0 'Moderate' 'no' 'no' 89.0]\n",
      " [25.0 'Moderate' 'no' 'yes' 86.0]\n",
      " [26.0 'Moderate' 'no' 'no' nan]\n",
      " [28.0 'Moderate' 'no' 'no' 89.0]\n",
      " [30.0 'Moderate' 'yes' 'no' 86.0]\n",
      " [35.0 'Moderate' 'no' 'no' 89.0]\n",
      " [32.0 'Moderate' 'no' 'yes' 84.0]\n",
      " [nan 'Moderate' 'yes' 'no' 90.0]\n",
      " [32.0 'Moderate' 'no' 'no' 89.0]\n",
      " [35.0 'Moderate' 'no' 'yes' 92.0]\n",
      " [38.0 'High' 'no' 'no' 75.0]\n",
      " [40.0 'Moderate' 'no' 'yes' 90.0]\n",
      " [46.0 'High' 'yes' 'no' 91.0]\n",
      " [48.0 'Moderate' 'no' 'yes' 93.0]\n",
      " [42.0 'High' 'no' 'no' 92.0]\n",
      " [40.0 'High' 'no' 'no' 92.0]\n",
      " [49.0 'Moderate' 'no' 'no' 80.0]\n",
      " [50.0 'High' 'yes' 'yes' 77.0]\n",
      " [36.0 'High' 'yes' 'no' 90.0]\n",
      " [52.0 'High' 'yes' 'yes' 80.0]\n",
      " [56.0 'High' 'yes' 'yes' 77.0]\n",
      " [58.0 'High' 'no' 'no' 70.0]\n",
      " [59.0 'High' 'no' 'yes' 69.0]\n",
      " [60.0 'High' 'yes' 'yes' 68.0]\n",
      " [53.0 'High' 'yes' 'no' 55.0]\n",
      " [54.0 'High' 'yes' 'yes' 70.0]\n",
      " [62.0 'High' 'yes' 'yes' 68.0]\n",
      " [63.0 'High' 'yes' 'yes' 66.0]\n",
      " [68.0 'High' 'yes' 'no' 67.0]\n",
      " [69.0 'High' 'no' 'yes' 53.0]\n",
      " [64.0 'High' 'yes' 'yes' 73.0]\n",
      " [61.0 'High' 'yes' 'yes' 76.0]\n",
      " [70.0 'Moderate' 'no' 'yes' 88.0]\n",
      " [59.0 'High' 'yes' 'no' 68.0]\n",
      " [62.0 'High' 'yes' 'yes' 69.0]\n",
      " [78.0 'High' 'yes' 'yes' 71.0]\n",
      " [74.0 'High' 'yes' 'yes' 75.0]\n",
      " [75.0 'High' 'no' 'yes' 72.0]\n",
      " [56.0 'High' 'yes' 'no' 76.0]\n",
      " [80.0 'High' 'no' 'yes' 92.0]\n",
      " [82.0 'High' 'yes' 'yes' 73.0]\n",
      " [86.0 'High' 'yes' 'yes' 71.0]\n",
      " [90.0 'High' 'yes' 'yes' 67.0]\n",
      " [84.0 'High' 'yes' 'yes' 75.0]\n",
      " [86.0 'High' 'no' 'yes' 76.0]\n",
      " [61.0 'Moderate' 'no' 'yes' 90.0]\n",
      " [94.0 'High' 'yes' 'yes' 64.0]\n",
      " [81.0 'High' 'yes' 'yes' 75.0]\n",
      " [76.0 'High' 'yes' 'yes' 80.0]]\n"
     ]
    }
   ],
   "source": [
    "#print(X)"
   ]
  },
  {
   "cell_type": "code",
   "execution_count": null,
   "metadata": {
    "colab": {
     "base_uri": "https://localhost:8080/"
    },
    "executionInfo": {
     "elapsed": 985,
     "status": "ok",
     "timestamp": 1611300383793,
     "user": {
      "displayName": "Atulya Kaushik",
      "photoUrl": "https://lh3.googleusercontent.com/a-/AOh14GgbdwwtUpDI6_ZCGNIh_WpVOrowFtjkOnV0PDGRUWfnsvK4VOwoMydLWUomfyM93wzmkYH2oqgNx5NSLSqCwoa5HZ_KxBpxL8GxQN8uRRDtlp3SF7wcGYbFZFH_-wGv0M1O2KeXvqvdFVMbO6RtG-EVC107IWjfYnisZUkM8Ja7dYlgfg4vGCuvxwSpOugEk-_tMkYzsphay8tNHrgG3yrTaxohPhYsZbAYi0JYfNJnfnJYtEefnN4DdpWwdMTR43XXEBkaNd2LOQ028uNa_dzM7_uFvPdiDJR7PXxt-BCtPa8KomMuLBFrxIZKJqikEr2mcXIK48msRSqnv4NsCFrkm5g7s_Sge09Qq5EbIJAVAlOygWUQ0rMQIi9PF-V5XchFYE7NxNmbEEWkHF2jj0zT_kMkV88DczewQCR-WVi0n_305dr7FNXptxwcp7Nc6FBrRIG33V_jElFZ9O7HrCG67QwhPeYVes0O0e48_eWU6XRxbkezYrcKRLDy047B0SHj1Ng96rQxd_YKoFAAgRqMCNunHXMQHQ5OKQv8uF8GnQ7llWSeYGkR14TPX3tWV5Qxy0fsbd3nhuKIvQe69YToY7HH5zp3JHSFbFvzCqvlDe-d2oOp0QPzN0ox3WYd1tJS6GyQ-r161Rq-5kA3Vusn7LzIL1hFwlRAfxH3j9uaHg4INCKONjhLm5c_IS-Pi64UL_tjiJM36PrtNUaQcS8-6y6qtDblN_Zg0r79t3D6gZ6OybTyIR8lOupyUc1BJIe4Eg=s64",
      "userId": "16390917540151948122"
     },
     "user_tz": -330
    },
    "id": "npkmWMlOwhC-",
    "outputId": "b82eb402-5fdd-422c-e7f5-081a83505097"
   },
   "outputs": [
    {
     "name": "stdout",
     "output_type": "stream",
     "text": [
      "['No' 'No' 'No' 'No' 'No' 'No' 'No' 'No' 'Yes' 'No' 'No' 'No' 'No' 'No'\n",
      " 'No' 'No' 'No' 'No' 'No' 'No' 'Yes' 'No' 'No' 'No' 'No' 'No' 'No' 'No'\n",
      " 'No' 'No' 'No' 'Yes' 'No' 'No' 'No' 'No' 'No' 'Yes' 'Yes' 'No' 'Yes'\n",
      " 'Yes' 'Yes' 'Yes' 'Yes' 'Yes' 'Yes' 'Yes' 'Yes' 'Yes' 'Yes' 'Yes' 'Yes'\n",
      " 'No' 'Yes' 'Yes' 'Yes' 'Yes' 'Yes' 'Yes' 'No' 'Yes' 'Yes' 'Yes' 'Yes'\n",
      " 'Yes' 'No' 'Yes' 'Yes' 'Yes']\n"
     ]
    }
   ],
   "source": [
    "#print(y)"
   ]
  },
  {
   "cell_type": "markdown",
   "metadata": {
    "id": "XaG0s7WjmgPU"
   },
   "source": [
    "\n",
    "\n",
    "\n",
    "## Handling Missing Data"
   ]
  },
  {
   "cell_type": "code",
   "execution_count": 60,
   "metadata": {
    "executionInfo": {
     "elapsed": 1009,
     "status": "ok",
     "timestamp": 1611300395471,
     "user": {
      "displayName": "Atulya Kaushik",
      "photoUrl": "https://lh3.googleusercontent.com/a-/AOh14GgbdwwtUpDI6_ZCGNIh_WpVOrowFtjkOnV0PDGRUWfnsvK4VOwoMydLWUomfyM93wzmkYH2oqgNx5NSLSqCwoa5HZ_KxBpxL8GxQN8uRRDtlp3SF7wcGYbFZFH_-wGv0M1O2KeXvqvdFVMbO6RtG-EVC107IWjfYnisZUkM8Ja7dYlgfg4vGCuvxwSpOugEk-_tMkYzsphay8tNHrgG3yrTaxohPhYsZbAYi0JYfNJnfnJYtEefnN4DdpWwdMTR43XXEBkaNd2LOQ028uNa_dzM7_uFvPdiDJR7PXxt-BCtPa8KomMuLBFrxIZKJqikEr2mcXIK48msRSqnv4NsCFrkm5g7s_Sge09Qq5EbIJAVAlOygWUQ0rMQIi9PF-V5XchFYE7NxNmbEEWkHF2jj0zT_kMkV88DczewQCR-WVi0n_305dr7FNXptxwcp7Nc6FBrRIG33V_jElFZ9O7HrCG67QwhPeYVes0O0e48_eWU6XRxbkezYrcKRLDy047B0SHj1Ng96rQxd_YKoFAAgRqMCNunHXMQHQ5OKQv8uF8GnQ7llWSeYGkR14TPX3tWV5Qxy0fsbd3nhuKIvQe69YToY7HH5zp3JHSFbFvzCqvlDe-d2oOp0QPzN0ox3WYd1tJS6GyQ-r161Rq-5kA3Vusn7LzIL1hFwlRAfxH3j9uaHg4INCKONjhLm5c_IS-Pi64UL_tjiJM36PrtNUaQcS8-6y6qtDblN_Zg0r79t3D6gZ6OybTyIR8lOupyUc1BJIe4Eg=s64",
      "userId": "16390917540151948122"
     },
     "user_tz": -330
    },
    "id": "hrao100Bx0GF"
   },
   "outputs": [],
   "source": [
    "from sklearn.impute import SimpleImputer\n",
    "imputer = SimpleImputer(missing_values = np.nan, strategy = 'mean')\n",
    "\n",
    "imputer.fit(X[:, 0:1])\n",
    "X[: , 0:1] = imputer.transform(X[:, 0:1])"
   ]
  },
  {
   "cell_type": "code",
   "execution_count": null,
   "metadata": {
    "colab": {
     "base_uri": "https://localhost:8080/"
    },
    "executionInfo": {
     "elapsed": 1030,
     "status": "ok",
     "timestamp": 1611299568237,
     "user": {
      "displayName": "Atulya Kaushik",
      "photoUrl": "https://lh3.googleusercontent.com/a-/AOh14GgbdwwtUpDI6_ZCGNIh_WpVOrowFtjkOnV0PDGRUWfnsvK4VOwoMydLWUomfyM93wzmkYH2oqgNx5NSLSqCwoa5HZ_KxBpxL8GxQN8uRRDtlp3SF7wcGYbFZFH_-wGv0M1O2KeXvqvdFVMbO6RtG-EVC107IWjfYnisZUkM8Ja7dYlgfg4vGCuvxwSpOugEk-_tMkYzsphay8tNHrgG3yrTaxohPhYsZbAYi0JYfNJnfnJYtEefnN4DdpWwdMTR43XXEBkaNd2LOQ028uNa_dzM7_uFvPdiDJR7PXxt-BCtPa8KomMuLBFrxIZKJqikEr2mcXIK48msRSqnv4NsCFrkm5g7s_Sge09Qq5EbIJAVAlOygWUQ0rMQIi9PF-V5XchFYE7NxNmbEEWkHF2jj0zT_kMkV88DczewQCR-WVi0n_305dr7FNXptxwcp7Nc6FBrRIG33V_jElFZ9O7HrCG67QwhPeYVes0O0e48_eWU6XRxbkezYrcKRLDy047B0SHj1Ng96rQxd_YKoFAAgRqMCNunHXMQHQ5OKQv8uF8GnQ7llWSeYGkR14TPX3tWV5Qxy0fsbd3nhuKIvQe69YToY7HH5zp3JHSFbFvzCqvlDe-d2oOp0QPzN0ox3WYd1tJS6GyQ-r161Rq-5kA3Vusn7LzIL1hFwlRAfxH3j9uaHg4INCKONjhLm5c_IS-Pi64UL_tjiJM36PrtNUaQcS8-6y6qtDblN_Zg0r79t3D6gZ6OybTyIR8lOupyUc1BJIe4Eg=s64",
      "userId": "16390917540151948122"
     },
     "user_tz": -330
    },
    "id": "sAXCmpU_zqiO",
    "outputId": "74ad8cae-8daa-4a96-a33c-f4042e06b86c"
   },
   "outputs": [
    {
     "name": "stdout",
     "output_type": "stream",
     "text": [
      "[[10.0 'Moderate' 'no' 'no' 97.0]\n",
      " [12.0 'Moderate' 'no' 'no' 97.0]\n",
      " [15.0 'Moderate' 'no' 'no' 94.0]\n",
      " [10.0 'Moderate' 'no' 'no' 97.0]\n",
      " [13.0 'Moderate' 'no' 'no' 94.0]\n",
      " [12.0 'Moderate' 'no' 'no' 97.0]\n",
      " [13.0 'Moderate' 'no' 'no' 93.0]\n",
      " [15.0 'Moderate' 'no' 'no' 92.0]\n",
      " [18.0 'Moderate' 'no' 'no' 66.0]\n",
      " [19.0 'Moderate' 'no' 'no' 92.0]\n",
      " [20.0 'Moderate' 'no' 'no' 93.0]\n",
      " [17.0 'Moderate' 'no' 'no' 93.0]\n",
      " [16.0 'Moderate' 'no' 'no' 92.0]\n",
      " [18.0 'Moderate' 'no' 'no' 93.0]\n",
      " [20.0 'Moderate' 'no' 'no' 92.0]\n",
      " [25.0 'Moderate' 'no' 'no' 93.0]\n",
      " [24.0 'Moderate' 'no' 'no' 92.0]\n",
      " [26.0 'High' 'no' 'no' 94.0]\n",
      " [28.0 'Moderate' 'no' 'no' 99.0]\n",
      " [29.0 'Moderate' 'no' 'no' 93.0]\n",
      " [30.0 'Moderate' 'no' 'no' 62.0]\n",
      " [19.0 'Moderate' 'no' 'no' 89.0]\n",
      " [25.0 'Moderate' 'no' 'yes' 86.0]\n",
      " [26.0 'Moderate' 'no' 'no' nan]\n",
      " [28.0 'Moderate' 'no' 'no' 89.0]\n",
      " [30.0 'Moderate' 'yes' 'no' 86.0]\n",
      " [35.0 'Moderate' 'no' 'no' 89.0]\n",
      " [32.0 'Moderate' 'no' 'yes' 84.0]\n",
      " [45.130434782608695 'Moderate' 'yes' 'no' 90.0]\n",
      " [32.0 'Moderate' 'no' 'no' 89.0]\n",
      " [35.0 'Moderate' 'no' 'yes' 92.0]\n",
      " [38.0 'High' 'no' 'no' 75.0]\n",
      " [40.0 'Moderate' 'no' 'yes' 90.0]\n",
      " [46.0 'High' 'yes' 'no' 91.0]\n",
      " [48.0 'Moderate' 'no' 'yes' 93.0]\n",
      " [42.0 'High' 'no' 'no' 92.0]\n",
      " [40.0 'High' 'no' 'no' 92.0]\n",
      " [49.0 'Moderate' 'no' 'no' 80.0]\n",
      " [50.0 'High' 'yes' 'yes' 77.0]\n",
      " [36.0 'High' 'yes' 'no' 90.0]\n",
      " [52.0 'High' 'yes' 'yes' 80.0]\n",
      " [56.0 'High' 'yes' 'yes' 77.0]\n",
      " [58.0 'High' 'no' 'no' 70.0]\n",
      " [59.0 'High' 'no' 'yes' 69.0]\n",
      " [60.0 'High' 'yes' 'yes' 68.0]\n",
      " [53.0 'High' 'yes' 'no' 55.0]\n",
      " [54.0 'High' 'yes' 'yes' 70.0]\n",
      " [62.0 'High' 'yes' 'yes' 68.0]\n",
      " [63.0 'High' 'yes' 'yes' 66.0]\n",
      " [68.0 'High' 'yes' 'no' 67.0]\n",
      " [69.0 'High' 'no' 'yes' 53.0]\n",
      " [64.0 'High' 'yes' 'yes' 73.0]\n",
      " [61.0 'High' 'yes' 'yes' 76.0]\n",
      " [70.0 'Moderate' 'no' 'yes' 88.0]\n",
      " [59.0 'High' 'yes' 'no' 68.0]\n",
      " [62.0 'High' 'yes' 'yes' 69.0]\n",
      " [78.0 'High' 'yes' 'yes' 71.0]\n",
      " [74.0 'High' 'yes' 'yes' 75.0]\n",
      " [75.0 'High' 'no' 'yes' 72.0]\n",
      " [56.0 'High' 'yes' 'no' 76.0]\n",
      " [80.0 'High' 'no' 'yes' 92.0]\n",
      " [82.0 'High' 'yes' 'yes' 73.0]\n",
      " [86.0 'High' 'yes' 'yes' 71.0]\n",
      " [90.0 'High' 'yes' 'yes' 67.0]\n",
      " [84.0 'High' 'yes' 'yes' 75.0]\n",
      " [86.0 'High' 'no' 'yes' 76.0]\n",
      " [61.0 'Moderate' 'no' 'yes' 90.0]\n",
      " [94.0 'High' 'yes' 'yes' 64.0]\n",
      " [81.0 'High' 'yes' 'yes' 75.0]\n",
      " [76.0 'High' 'yes' 'yes' 80.0]]\n"
     ]
    }
   ],
   "source": [
    "#print(X)"
   ]
  },
  {
   "cell_type": "code",
   "execution_count": 61,
   "metadata": {
    "executionInfo": {
     "elapsed": 1061,
     "status": "ok",
     "timestamp": 1611300403888,
     "user": {
      "displayName": "Atulya Kaushik",
      "photoUrl": "https://lh3.googleusercontent.com/a-/AOh14GgbdwwtUpDI6_ZCGNIh_WpVOrowFtjkOnV0PDGRUWfnsvK4VOwoMydLWUomfyM93wzmkYH2oqgNx5NSLSqCwoa5HZ_KxBpxL8GxQN8uRRDtlp3SF7wcGYbFZFH_-wGv0M1O2KeXvqvdFVMbO6RtG-EVC107IWjfYnisZUkM8Ja7dYlgfg4vGCuvxwSpOugEk-_tMkYzsphay8tNHrgG3yrTaxohPhYsZbAYi0JYfNJnfnJYtEefnN4DdpWwdMTR43XXEBkaNd2LOQ028uNa_dzM7_uFvPdiDJR7PXxt-BCtPa8KomMuLBFrxIZKJqikEr2mcXIK48msRSqnv4NsCFrkm5g7s_Sge09Qq5EbIJAVAlOygWUQ0rMQIi9PF-V5XchFYE7NxNmbEEWkHF2jj0zT_kMkV88DczewQCR-WVi0n_305dr7FNXptxwcp7Nc6FBrRIG33V_jElFZ9O7HrCG67QwhPeYVes0O0e48_eWU6XRxbkezYrcKRLDy047B0SHj1Ng96rQxd_YKoFAAgRqMCNunHXMQHQ5OKQv8uF8GnQ7llWSeYGkR14TPX3tWV5Qxy0fsbd3nhuKIvQe69YToY7HH5zp3JHSFbFvzCqvlDe-d2oOp0QPzN0ox3WYd1tJS6GyQ-r161Rq-5kA3Vusn7LzIL1hFwlRAfxH3j9uaHg4INCKONjhLm5c_IS-Pi64UL_tjiJM36PrtNUaQcS8-6y6qtDblN_Zg0r79t3D6gZ6OybTyIR8lOupyUc1BJIe4Eg=s64",
      "userId": "16390917540151948122"
     },
     "user_tz": -330
    },
    "id": "m1WM52AYz3tj"
   },
   "outputs": [],
   "source": [
    "imputer.fit(X[:, 4:5])\n",
    "X[: , 4:5] = imputer.transform(X[:, 4:5])"
   ]
  },
  {
   "cell_type": "code",
   "execution_count": null,
   "metadata": {
    "colab": {
     "base_uri": "https://localhost:8080/"
    },
    "executionInfo": {
     "elapsed": 1202,
     "status": "ok",
     "timestamp": 1611300405933,
     "user": {
      "displayName": "Atulya Kaushik",
      "photoUrl": "https://lh3.googleusercontent.com/a-/AOh14GgbdwwtUpDI6_ZCGNIh_WpVOrowFtjkOnV0PDGRUWfnsvK4VOwoMydLWUomfyM93wzmkYH2oqgNx5NSLSqCwoa5HZ_KxBpxL8GxQN8uRRDtlp3SF7wcGYbFZFH_-wGv0M1O2KeXvqvdFVMbO6RtG-EVC107IWjfYnisZUkM8Ja7dYlgfg4vGCuvxwSpOugEk-_tMkYzsphay8tNHrgG3yrTaxohPhYsZbAYi0JYfNJnfnJYtEefnN4DdpWwdMTR43XXEBkaNd2LOQ028uNa_dzM7_uFvPdiDJR7PXxt-BCtPa8KomMuLBFrxIZKJqikEr2mcXIK48msRSqnv4NsCFrkm5g7s_Sge09Qq5EbIJAVAlOygWUQ0rMQIi9PF-V5XchFYE7NxNmbEEWkHF2jj0zT_kMkV88DczewQCR-WVi0n_305dr7FNXptxwcp7Nc6FBrRIG33V_jElFZ9O7HrCG67QwhPeYVes0O0e48_eWU6XRxbkezYrcKRLDy047B0SHj1Ng96rQxd_YKoFAAgRqMCNunHXMQHQ5OKQv8uF8GnQ7llWSeYGkR14TPX3tWV5Qxy0fsbd3nhuKIvQe69YToY7HH5zp3JHSFbFvzCqvlDe-d2oOp0QPzN0ox3WYd1tJS6GyQ-r161Rq-5kA3Vusn7LzIL1hFwlRAfxH3j9uaHg4INCKONjhLm5c_IS-Pi64UL_tjiJM36PrtNUaQcS8-6y6qtDblN_Zg0r79t3D6gZ6OybTyIR8lOupyUc1BJIe4Eg=s64",
      "userId": "16390917540151948122"
     },
     "user_tz": -330
    },
    "id": "qZ31gjqzz9FC",
    "outputId": "3a03292e-d845-4009-8ccd-814bdd33bfe3"
   },
   "outputs": [
    {
     "name": "stdout",
     "output_type": "stream",
     "text": [
      "[[10.0 'Moderate' 'no' 'no' 97.0]\n",
      " [12.0 'Moderate' 'no' 'no' 97.0]\n",
      " [15.0 'Moderate' 'no' 'no' 94.0]\n",
      " [10.0 'Moderate' 'no' 'no' 97.0]\n",
      " [13.0 'Moderate' 'no' 'no' 94.0]\n",
      " [12.0 'Moderate' 'no' 'no' 97.0]\n",
      " [13.0 'Moderate' 'no' 'no' 93.0]\n",
      " [15.0 'Moderate' 'no' 'no' 92.0]\n",
      " [18.0 'Moderate' 'no' 'no' 66.0]\n",
      " [19.0 'Moderate' 'no' 'no' 92.0]\n",
      " [20.0 'Moderate' 'no' 'no' 93.0]\n",
      " [17.0 'Moderate' 'no' 'no' 93.0]\n",
      " [16.0 'Moderate' 'no' 'no' 92.0]\n",
      " [18.0 'Moderate' 'no' 'no' 93.0]\n",
      " [20.0 'Moderate' 'no' 'no' 92.0]\n",
      " [25.0 'Moderate' 'no' 'no' 93.0]\n",
      " [24.0 'Moderate' 'no' 'no' 92.0]\n",
      " [26.0 'High' 'no' 'no' 94.0]\n",
      " [28.0 'Moderate' 'no' 'no' 99.0]\n",
      " [29.0 'Moderate' 'no' 'no' 93.0]\n",
      " [30.0 'Moderate' 'no' 'no' 62.0]\n",
      " [19.0 'Moderate' 'no' 'no' 89.0]\n",
      " [25.0 'Moderate' 'no' 'yes' 86.0]\n",
      " [26.0 'Moderate' 'no' 'no' 82.07246376811594]\n",
      " [28.0 'Moderate' 'no' 'no' 89.0]\n",
      " [30.0 'Moderate' 'yes' 'no' 86.0]\n",
      " [35.0 'Moderate' 'no' 'no' 89.0]\n",
      " [32.0 'Moderate' 'no' 'yes' 84.0]\n",
      " [45.130434782608695 'Moderate' 'yes' 'no' 90.0]\n",
      " [32.0 'Moderate' 'no' 'no' 89.0]\n",
      " [35.0 'Moderate' 'no' 'yes' 92.0]\n",
      " [38.0 'High' 'no' 'no' 75.0]\n",
      " [40.0 'Moderate' 'no' 'yes' 90.0]\n",
      " [46.0 'High' 'yes' 'no' 91.0]\n",
      " [48.0 'Moderate' 'no' 'yes' 93.0]\n",
      " [42.0 'High' 'no' 'no' 92.0]\n",
      " [40.0 'High' 'no' 'no' 92.0]\n",
      " [49.0 'Moderate' 'no' 'no' 80.0]\n",
      " [50.0 'High' 'yes' 'yes' 77.0]\n",
      " [36.0 'High' 'yes' 'no' 90.0]\n",
      " [52.0 'High' 'yes' 'yes' 80.0]\n",
      " [56.0 'High' 'yes' 'yes' 77.0]\n",
      " [58.0 'High' 'no' 'no' 70.0]\n",
      " [59.0 'High' 'no' 'yes' 69.0]\n",
      " [60.0 'High' 'yes' 'yes' 68.0]\n",
      " [53.0 'High' 'yes' 'no' 55.0]\n",
      " [54.0 'High' 'yes' 'yes' 70.0]\n",
      " [62.0 'High' 'yes' 'yes' 68.0]\n",
      " [63.0 'High' 'yes' 'yes' 66.0]\n",
      " [68.0 'High' 'yes' 'no' 67.0]\n",
      " [69.0 'High' 'no' 'yes' 53.0]\n",
      " [64.0 'High' 'yes' 'yes' 73.0]\n",
      " [61.0 'High' 'yes' 'yes' 76.0]\n",
      " [70.0 'Moderate' 'no' 'yes' 88.0]\n",
      " [59.0 'High' 'yes' 'no' 68.0]\n",
      " [62.0 'High' 'yes' 'yes' 69.0]\n",
      " [78.0 'High' 'yes' 'yes' 71.0]\n",
      " [74.0 'High' 'yes' 'yes' 75.0]\n",
      " [75.0 'High' 'no' 'yes' 72.0]\n",
      " [56.0 'High' 'yes' 'no' 76.0]\n",
      " [80.0 'High' 'no' 'yes' 92.0]\n",
      " [82.0 'High' 'yes' 'yes' 73.0]\n",
      " [86.0 'High' 'yes' 'yes' 71.0]\n",
      " [90.0 'High' 'yes' 'yes' 67.0]\n",
      " [84.0 'High' 'yes' 'yes' 75.0]\n",
      " [86.0 'High' 'no' 'yes' 76.0]\n",
      " [61.0 'Moderate' 'no' 'yes' 90.0]\n",
      " [94.0 'High' 'yes' 'yes' 64.0]\n",
      " [81.0 'High' 'yes' 'yes' 75.0]\n",
      " [76.0 'High' 'yes' 'yes' 80.0]]\n"
     ]
    }
   ],
   "source": [
    "#print(X)"
   ]
  },
  {
   "cell_type": "markdown",
   "metadata": {
    "id": "o0syRbsSmkoe"
   },
   "source": [
    "## Encoding Categorical Data"
   ]
  },
  {
   "cell_type": "markdown",
   "metadata": {
    "id": "alHfpomamsVr"
   },
   "source": [
    "### Encoding independent variables"
   ]
  },
  {
   "cell_type": "code",
   "execution_count": 62,
   "metadata": {
    "executionInfo": {
     "elapsed": 1046,
     "status": "ok",
     "timestamp": 1611300409322,
     "user": {
      "displayName": "Atulya Kaushik",
      "photoUrl": "https://lh3.googleusercontent.com/a-/AOh14GgbdwwtUpDI6_ZCGNIh_WpVOrowFtjkOnV0PDGRUWfnsvK4VOwoMydLWUomfyM93wzmkYH2oqgNx5NSLSqCwoa5HZ_KxBpxL8GxQN8uRRDtlp3SF7wcGYbFZFH_-wGv0M1O2KeXvqvdFVMbO6RtG-EVC107IWjfYnisZUkM8Ja7dYlgfg4vGCuvxwSpOugEk-_tMkYzsphay8tNHrgG3yrTaxohPhYsZbAYi0JYfNJnfnJYtEefnN4DdpWwdMTR43XXEBkaNd2LOQ028uNa_dzM7_uFvPdiDJR7PXxt-BCtPa8KomMuLBFrxIZKJqikEr2mcXIK48msRSqnv4NsCFrkm5g7s_Sge09Qq5EbIJAVAlOygWUQ0rMQIi9PF-V5XchFYE7NxNmbEEWkHF2jj0zT_kMkV88DczewQCR-WVi0n_305dr7FNXptxwcp7Nc6FBrRIG33V_jElFZ9O7HrCG67QwhPeYVes0O0e48_eWU6XRxbkezYrcKRLDy047B0SHj1Ng96rQxd_YKoFAAgRqMCNunHXMQHQ5OKQv8uF8GnQ7llWSeYGkR14TPX3tWV5Qxy0fsbd3nhuKIvQe69YToY7HH5zp3JHSFbFvzCqvlDe-d2oOp0QPzN0ox3WYd1tJS6GyQ-r161Rq-5kA3Vusn7LzIL1hFwlRAfxH3j9uaHg4INCKONjhLm5c_IS-Pi64UL_tjiJM36PrtNUaQcS8-6y6qtDblN_Zg0r79t3D6gZ6OybTyIR8lOupyUc1BJIe4Eg=s64",
      "userId": "16390917540151948122"
     },
     "user_tz": -330
    },
    "id": "CbMLV_pC-RvL"
   },
   "outputs": [],
   "source": [
    "from sklearn.compose import ColumnTransformer\n",
    "from sklearn.preprocessing import OneHotEncoder"
   ]
  },
  {
   "cell_type": "code",
   "execution_count": 63,
   "metadata": {
    "executionInfo": {
     "elapsed": 741,
     "status": "ok",
     "timestamp": 1611300411198,
     "user": {
      "displayName": "Atulya Kaushik",
      "photoUrl": "https://lh3.googleusercontent.com/a-/AOh14GgbdwwtUpDI6_ZCGNIh_WpVOrowFtjkOnV0PDGRUWfnsvK4VOwoMydLWUomfyM93wzmkYH2oqgNx5NSLSqCwoa5HZ_KxBpxL8GxQN8uRRDtlp3SF7wcGYbFZFH_-wGv0M1O2KeXvqvdFVMbO6RtG-EVC107IWjfYnisZUkM8Ja7dYlgfg4vGCuvxwSpOugEk-_tMkYzsphay8tNHrgG3yrTaxohPhYsZbAYi0JYfNJnfnJYtEefnN4DdpWwdMTR43XXEBkaNd2LOQ028uNa_dzM7_uFvPdiDJR7PXxt-BCtPa8KomMuLBFrxIZKJqikEr2mcXIK48msRSqnv4NsCFrkm5g7s_Sge09Qq5EbIJAVAlOygWUQ0rMQIi9PF-V5XchFYE7NxNmbEEWkHF2jj0zT_kMkV88DczewQCR-WVi0n_305dr7FNXptxwcp7Nc6FBrRIG33V_jElFZ9O7HrCG67QwhPeYVes0O0e48_eWU6XRxbkezYrcKRLDy047B0SHj1Ng96rQxd_YKoFAAgRqMCNunHXMQHQ5OKQv8uF8GnQ7llWSeYGkR14TPX3tWV5Qxy0fsbd3nhuKIvQe69YToY7HH5zp3JHSFbFvzCqvlDe-d2oOp0QPzN0ox3WYd1tJS6GyQ-r161Rq-5kA3Vusn7LzIL1hFwlRAfxH3j9uaHg4INCKONjhLm5c_IS-Pi64UL_tjiJM36PrtNUaQcS8-6y6qtDblN_Zg0r79t3D6gZ6OybTyIR8lOupyUc1BJIe4Eg=s64",
      "userId": "16390917540151948122"
     },
     "user_tz": -330
    },
    "id": "4_t-rf29-dSP"
   },
   "outputs": [],
   "source": [
    "ct = ColumnTransformer(transformers=[('encoder',OneHotEncoder(), [1])], remainder= 'passthrough')\n",
    "X = np.array(ct.fit_transform(X))"
   ]
  },
  {
   "cell_type": "code",
   "execution_count": null,
   "metadata": {
    "colab": {
     "base_uri": "https://localhost:8080/"
    },
    "executionInfo": {
     "elapsed": 718,
     "status": "ok",
     "timestamp": 1611300412995,
     "user": {
      "displayName": "Atulya Kaushik",
      "photoUrl": "https://lh3.googleusercontent.com/a-/AOh14GgbdwwtUpDI6_ZCGNIh_WpVOrowFtjkOnV0PDGRUWfnsvK4VOwoMydLWUomfyM93wzmkYH2oqgNx5NSLSqCwoa5HZ_KxBpxL8GxQN8uRRDtlp3SF7wcGYbFZFH_-wGv0M1O2KeXvqvdFVMbO6RtG-EVC107IWjfYnisZUkM8Ja7dYlgfg4vGCuvxwSpOugEk-_tMkYzsphay8tNHrgG3yrTaxohPhYsZbAYi0JYfNJnfnJYtEefnN4DdpWwdMTR43XXEBkaNd2LOQ028uNa_dzM7_uFvPdiDJR7PXxt-BCtPa8KomMuLBFrxIZKJqikEr2mcXIK48msRSqnv4NsCFrkm5g7s_Sge09Qq5EbIJAVAlOygWUQ0rMQIi9PF-V5XchFYE7NxNmbEEWkHF2jj0zT_kMkV88DczewQCR-WVi0n_305dr7FNXptxwcp7Nc6FBrRIG33V_jElFZ9O7HrCG67QwhPeYVes0O0e48_eWU6XRxbkezYrcKRLDy047B0SHj1Ng96rQxd_YKoFAAgRqMCNunHXMQHQ5OKQv8uF8GnQ7llWSeYGkR14TPX3tWV5Qxy0fsbd3nhuKIvQe69YToY7HH5zp3JHSFbFvzCqvlDe-d2oOp0QPzN0ox3WYd1tJS6GyQ-r161Rq-5kA3Vusn7LzIL1hFwlRAfxH3j9uaHg4INCKONjhLm5c_IS-Pi64UL_tjiJM36PrtNUaQcS8-6y6qtDblN_Zg0r79t3D6gZ6OybTyIR8lOupyUc1BJIe4Eg=s64",
      "userId": "16390917540151948122"
     },
     "user_tz": -330
    },
    "id": "buoXf8Z0_FhM",
    "outputId": "44e75a5d-8dcd-46c4-d530-3152c9ccb2d6"
   },
   "outputs": [
    {
     "name": "stdout",
     "output_type": "stream",
     "text": [
      "(70, 8)\n"
     ]
    }
   ],
   "source": [
    "#print(X)"
   ]
  },
  {
   "cell_type": "markdown",
   "metadata": {
    "id": "VEJCi9Fgmz-n"
   },
   "source": [
    "### Encoding dependent variables"
   ]
  },
  {
   "cell_type": "code",
   "execution_count": 64,
   "metadata": {
    "executionInfo": {
     "elapsed": 1070,
     "status": "ok",
     "timestamp": 1611301053116,
     "user": {
      "displayName": "Atulya Kaushik",
      "photoUrl": "https://lh3.googleusercontent.com/a-/AOh14GgbdwwtUpDI6_ZCGNIh_WpVOrowFtjkOnV0PDGRUWfnsvK4VOwoMydLWUomfyM93wzmkYH2oqgNx5NSLSqCwoa5HZ_KxBpxL8GxQN8uRRDtlp3SF7wcGYbFZFH_-wGv0M1O2KeXvqvdFVMbO6RtG-EVC107IWjfYnisZUkM8Ja7dYlgfg4vGCuvxwSpOugEk-_tMkYzsphay8tNHrgG3yrTaxohPhYsZbAYi0JYfNJnfnJYtEefnN4DdpWwdMTR43XXEBkaNd2LOQ028uNa_dzM7_uFvPdiDJR7PXxt-BCtPa8KomMuLBFrxIZKJqikEr2mcXIK48msRSqnv4NsCFrkm5g7s_Sge09Qq5EbIJAVAlOygWUQ0rMQIi9PF-V5XchFYE7NxNmbEEWkHF2jj0zT_kMkV88DczewQCR-WVi0n_305dr7FNXptxwcp7Nc6FBrRIG33V_jElFZ9O7HrCG67QwhPeYVes0O0e48_eWU6XRxbkezYrcKRLDy047B0SHj1Ng96rQxd_YKoFAAgRqMCNunHXMQHQ5OKQv8uF8GnQ7llWSeYGkR14TPX3tWV5Qxy0fsbd3nhuKIvQe69YToY7HH5zp3JHSFbFvzCqvlDe-d2oOp0QPzN0ox3WYd1tJS6GyQ-r161Rq-5kA3Vusn7LzIL1hFwlRAfxH3j9uaHg4INCKONjhLm5c_IS-Pi64UL_tjiJM36PrtNUaQcS8-6y6qtDblN_Zg0r79t3D6gZ6OybTyIR8lOupyUc1BJIe4Eg=s64",
      "userId": "16390917540151948122"
     },
     "user_tz": -330
    },
    "id": "FEYOn3J3Bcw4"
   },
   "outputs": [],
   "source": [
    "from sklearn.preprocessing import LabelEncoder\n",
    "le = LabelEncoder()\n",
    "y = le.fit_transform(y)"
   ]
  },
  {
   "cell_type": "code",
   "execution_count": null,
   "metadata": {
    "colab": {
     "base_uri": "https://localhost:8080/"
    },
    "executionInfo": {
     "elapsed": 1052,
     "status": "ok",
     "timestamp": 1611301060124,
     "user": {
      "displayName": "Atulya Kaushik",
      "photoUrl": "https://lh3.googleusercontent.com/a-/AOh14GgbdwwtUpDI6_ZCGNIh_WpVOrowFtjkOnV0PDGRUWfnsvK4VOwoMydLWUomfyM93wzmkYH2oqgNx5NSLSqCwoa5HZ_KxBpxL8GxQN8uRRDtlp3SF7wcGYbFZFH_-wGv0M1O2KeXvqvdFVMbO6RtG-EVC107IWjfYnisZUkM8Ja7dYlgfg4vGCuvxwSpOugEk-_tMkYzsphay8tNHrgG3yrTaxohPhYsZbAYi0JYfNJnfnJYtEefnN4DdpWwdMTR43XXEBkaNd2LOQ028uNa_dzM7_uFvPdiDJR7PXxt-BCtPa8KomMuLBFrxIZKJqikEr2mcXIK48msRSqnv4NsCFrkm5g7s_Sge09Qq5EbIJAVAlOygWUQ0rMQIi9PF-V5XchFYE7NxNmbEEWkHF2jj0zT_kMkV88DczewQCR-WVi0n_305dr7FNXptxwcp7Nc6FBrRIG33V_jElFZ9O7HrCG67QwhPeYVes0O0e48_eWU6XRxbkezYrcKRLDy047B0SHj1Ng96rQxd_YKoFAAgRqMCNunHXMQHQ5OKQv8uF8GnQ7llWSeYGkR14TPX3tWV5Qxy0fsbd3nhuKIvQe69YToY7HH5zp3JHSFbFvzCqvlDe-d2oOp0QPzN0ox3WYd1tJS6GyQ-r161Rq-5kA3Vusn7LzIL1hFwlRAfxH3j9uaHg4INCKONjhLm5c_IS-Pi64UL_tjiJM36PrtNUaQcS8-6y6qtDblN_Zg0r79t3D6gZ6OybTyIR8lOupyUc1BJIe4Eg=s64",
      "userId": "16390917540151948122"
     },
     "user_tz": -330
    },
    "id": "RT3rZDZhBumg",
    "outputId": "1896c7e9-6420-49be-8698-f07ec17c44fe"
   },
   "outputs": [
    {
     "name": "stdout",
     "output_type": "stream",
     "text": [
      "[0 0 0 0 0 0 0 0 1 0 0 0 0 0 0 0 0 0 0 0 1 0 0 0 0 0 0 0 0 0 0 1 0 0 0 0 0\n",
      " 1 1 0 1 1 1 1 1 1 1 1 1 1 1 1 1 0 1 1 1 1 1 1 0 1 1 1 1 1 0 1 1 1]\n"
     ]
    }
   ],
   "source": [
    "#print(y)"
   ]
  },
  {
   "cell_type": "markdown",
   "metadata": {
    "id": "Bfz9vcDsm7r6"
   },
   "source": [
    "## Splitting data into Test set & Training Set\n"
   ]
  },
  {
   "cell_type": "code",
   "execution_count": 65,
   "metadata": {
    "executionInfo": {
     "elapsed": 1090,
     "status": "ok",
     "timestamp": 1611301546374,
     "user": {
      "displayName": "Atulya Kaushik",
      "photoUrl": "https://lh3.googleusercontent.com/a-/AOh14GgbdwwtUpDI6_ZCGNIh_WpVOrowFtjkOnV0PDGRUWfnsvK4VOwoMydLWUomfyM93wzmkYH2oqgNx5NSLSqCwoa5HZ_KxBpxL8GxQN8uRRDtlp3SF7wcGYbFZFH_-wGv0M1O2KeXvqvdFVMbO6RtG-EVC107IWjfYnisZUkM8Ja7dYlgfg4vGCuvxwSpOugEk-_tMkYzsphay8tNHrgG3yrTaxohPhYsZbAYi0JYfNJnfnJYtEefnN4DdpWwdMTR43XXEBkaNd2LOQ028uNa_dzM7_uFvPdiDJR7PXxt-BCtPa8KomMuLBFrxIZKJqikEr2mcXIK48msRSqnv4NsCFrkm5g7s_Sge09Qq5EbIJAVAlOygWUQ0rMQIi9PF-V5XchFYE7NxNmbEEWkHF2jj0zT_kMkV88DczewQCR-WVi0n_305dr7FNXptxwcp7Nc6FBrRIG33V_jElFZ9O7HrCG67QwhPeYVes0O0e48_eWU6XRxbkezYrcKRLDy047B0SHj1Ng96rQxd_YKoFAAgRqMCNunHXMQHQ5OKQv8uF8GnQ7llWSeYGkR14TPX3tWV5Qxy0fsbd3nhuKIvQe69YToY7HH5zp3JHSFbFvzCqvlDe-d2oOp0QPzN0ox3WYd1tJS6GyQ-r161Rq-5kA3Vusn7LzIL1hFwlRAfxH3j9uaHg4INCKONjhLm5c_IS-Pi64UL_tjiJM36PrtNUaQcS8-6y6qtDblN_Zg0r79t3D6gZ6OybTyIR8lOupyUc1BJIe4Eg=s64",
      "userId": "16390917540151948122"
     },
     "user_tz": -330
    },
    "id": "Ld4vnJbBC3sh"
   },
   "outputs": [],
   "source": [
    "from sklearn.model_selection import train_test_split\n",
    "X_train, X_test, y_train, y_test = train_test_split(X, y, test_size = 0.2, random_state = 42)"
   ]
  },
  {
   "cell_type": "code",
   "execution_count": null,
   "metadata": {
    "colab": {
     "base_uri": "https://localhost:8080/"
    },
    "executionInfo": {
     "elapsed": 1106,
     "status": "ok",
     "timestamp": 1611301556521,
     "user": {
      "displayName": "Atulya Kaushik",
      "photoUrl": "https://lh3.googleusercontent.com/a-/AOh14GgbdwwtUpDI6_ZCGNIh_WpVOrowFtjkOnV0PDGRUWfnsvK4VOwoMydLWUomfyM93wzmkYH2oqgNx5NSLSqCwoa5HZ_KxBpxL8GxQN8uRRDtlp3SF7wcGYbFZFH_-wGv0M1O2KeXvqvdFVMbO6RtG-EVC107IWjfYnisZUkM8Ja7dYlgfg4vGCuvxwSpOugEk-_tMkYzsphay8tNHrgG3yrTaxohPhYsZbAYi0JYfNJnfnJYtEefnN4DdpWwdMTR43XXEBkaNd2LOQ028uNa_dzM7_uFvPdiDJR7PXxt-BCtPa8KomMuLBFrxIZKJqikEr2mcXIK48msRSqnv4NsCFrkm5g7s_Sge09Qq5EbIJAVAlOygWUQ0rMQIi9PF-V5XchFYE7NxNmbEEWkHF2jj0zT_kMkV88DczewQCR-WVi0n_305dr7FNXptxwcp7Nc6FBrRIG33V_jElFZ9O7HrCG67QwhPeYVes0O0e48_eWU6XRxbkezYrcKRLDy047B0SHj1Ng96rQxd_YKoFAAgRqMCNunHXMQHQ5OKQv8uF8GnQ7llWSeYGkR14TPX3tWV5Qxy0fsbd3nhuKIvQe69YToY7HH5zp3JHSFbFvzCqvlDe-d2oOp0QPzN0ox3WYd1tJS6GyQ-r161Rq-5kA3Vusn7LzIL1hFwlRAfxH3j9uaHg4INCKONjhLm5c_IS-Pi64UL_tjiJM36PrtNUaQcS8-6y6qtDblN_Zg0r79t3D6gZ6OybTyIR8lOupyUc1BJIe4Eg=s64",
      "userId": "16390917540151948122"
     },
     "user_tz": -330
    },
    "id": "rP7cBvClDnHk",
    "outputId": "e43dc399-7fa1-410b-f6ef-6f68c2211e54"
   },
   "outputs": [
    {
     "name": "stdout",
     "output_type": "stream",
     "text": [
      "[[1.0 0.0 86.0 'yes' 'yes' 71.0]\n",
      " [0.0 1.0 35.0 'no' 'yes' 92.0]\n",
      " [1.0 0.0 75.0 'no' 'yes' 72.0]\n",
      " [1.0 0.0 42.0 'no' 'no' 92.0]\n",
      " [1.0 0.0 74.0 'yes' 'yes' 75.0]\n",
      " [1.0 0.0 62.0 'yes' 'yes' 68.0]\n",
      " [0.0 1.0 24.0 'no' 'no' 92.0]\n",
      " [0.0 1.0 48.0 'no' 'yes' 93.0]\n",
      " [1.0 0.0 58.0 'no' 'no' 70.0]\n",
      " [0.0 1.0 45.130434782608695 'yes' 'no' 90.0]\n",
      " [0.0 1.0 15.0 'no' 'no' 92.0]\n",
      " [0.0 1.0 70.0 'no' 'yes' 88.0]\n",
      " [1.0 0.0 52.0 'yes' 'yes' 80.0]\n",
      " [1.0 0.0 60.0 'yes' 'yes' 68.0]\n",
      " [1.0 0.0 54.0 'yes' 'yes' 70.0]\n",
      " [0.0 1.0 29.0 'no' 'no' 93.0]\n",
      " [1.0 0.0 78.0 'yes' 'yes' 71.0]\n",
      " [1.0 0.0 36.0 'yes' 'no' 90.0]\n",
      " [0.0 1.0 30.0 'yes' 'no' 86.0]\n",
      " [1.0 0.0 50.0 'yes' 'yes' 77.0]\n",
      " [0.0 1.0 18.0 'no' 'no' 93.0]\n",
      " [1.0 0.0 69.0 'no' 'yes' 53.0]\n",
      " [0.0 1.0 10.0 'no' 'no' 97.0]\n",
      " [1.0 0.0 26.0 'no' 'no' 94.0]\n",
      " [0.0 1.0 18.0 'no' 'no' 66.0]\n",
      " [1.0 0.0 62.0 'yes' 'yes' 69.0]\n",
      " [0.0 1.0 13.0 'no' 'no' 93.0]\n",
      " [1.0 0.0 40.0 'no' 'no' 92.0]\n",
      " [1.0 0.0 84.0 'yes' 'yes' 75.0]\n",
      " [1.0 0.0 76.0 'yes' 'yes' 80.0]\n",
      " [1.0 0.0 81.0 'yes' 'yes' 75.0]\n",
      " [0.0 1.0 25.0 'no' 'no' 93.0]\n",
      " [0.0 1.0 32.0 'no' 'yes' 84.0]\n",
      " [1.0 0.0 56.0 'yes' 'yes' 77.0]\n",
      " [0.0 1.0 35.0 'no' 'no' 89.0]\n",
      " [1.0 0.0 63.0 'yes' 'yes' 66.0]\n",
      " [0.0 1.0 28.0 'no' 'no' 89.0]\n",
      " [1.0 0.0 56.0 'yes' 'no' 76.0]\n",
      " [1.0 0.0 90.0 'yes' 'yes' 67.0]\n",
      " [0.0 1.0 17.0 'no' 'no' 93.0]\n",
      " [0.0 1.0 40.0 'no' 'yes' 90.0]\n",
      " [0.0 1.0 61.0 'no' 'yes' 90.0]\n",
      " [1.0 0.0 82.0 'yes' 'yes' 73.0]\n",
      " [0.0 1.0 49.0 'no' 'no' 80.0]\n",
      " [0.0 1.0 32.0 'no' 'no' 89.0]\n",
      " [1.0 0.0 59.0 'no' 'yes' 69.0]\n",
      " [1.0 0.0 86.0 'no' 'yes' 76.0]\n",
      " [0.0 1.0 12.0 'no' 'no' 97.0]\n",
      " [1.0 0.0 61.0 'yes' 'yes' 76.0]\n",
      " [0.0 1.0 19.0 'no' 'no' 89.0]\n",
      " [0.0 1.0 15.0 'no' 'no' 94.0]\n",
      " [0.0 1.0 26.0 'no' 'no' 82.07246376811594]\n",
      " [0.0 1.0 30.0 'no' 'no' 62.0]\n",
      " [1.0 0.0 80.0 'no' 'yes' 92.0]\n",
      " [0.0 1.0 20.0 'no' 'no' 92.0]\n",
      " [1.0 0.0 64.0 'yes' 'yes' 73.0]]\n"
     ]
    }
   ],
   "source": [
    "#print(X_train)"
   ]
  },
  {
   "cell_type": "code",
   "execution_count": null,
   "metadata": {
    "colab": {
     "base_uri": "https://localhost:8080/"
    },
    "executionInfo": {
     "elapsed": 1053,
     "status": "ok",
     "timestamp": 1611301570050,
     "user": {
      "displayName": "Atulya Kaushik",
      "photoUrl": "https://lh3.googleusercontent.com/a-/AOh14GgbdwwtUpDI6_ZCGNIh_WpVOrowFtjkOnV0PDGRUWfnsvK4VOwoMydLWUomfyM93wzmkYH2oqgNx5NSLSqCwoa5HZ_KxBpxL8GxQN8uRRDtlp3SF7wcGYbFZFH_-wGv0M1O2KeXvqvdFVMbO6RtG-EVC107IWjfYnisZUkM8Ja7dYlgfg4vGCuvxwSpOugEk-_tMkYzsphay8tNHrgG3yrTaxohPhYsZbAYi0JYfNJnfnJYtEefnN4DdpWwdMTR43XXEBkaNd2LOQ028uNa_dzM7_uFvPdiDJR7PXxt-BCtPa8KomMuLBFrxIZKJqikEr2mcXIK48msRSqnv4NsCFrkm5g7s_Sge09Qq5EbIJAVAlOygWUQ0rMQIi9PF-V5XchFYE7NxNmbEEWkHF2jj0zT_kMkV88DczewQCR-WVi0n_305dr7FNXptxwcp7Nc6FBrRIG33V_jElFZ9O7HrCG67QwhPeYVes0O0e48_eWU6XRxbkezYrcKRLDy047B0SHj1Ng96rQxd_YKoFAAgRqMCNunHXMQHQ5OKQv8uF8GnQ7llWSeYGkR14TPX3tWV5Qxy0fsbd3nhuKIvQe69YToY7HH5zp3JHSFbFvzCqvlDe-d2oOp0QPzN0ox3WYd1tJS6GyQ-r161Rq-5kA3Vusn7LzIL1hFwlRAfxH3j9uaHg4INCKONjhLm5c_IS-Pi64UL_tjiJM36PrtNUaQcS8-6y6qtDblN_Zg0r79t3D6gZ6OybTyIR8lOupyUc1BJIe4Eg=s64",
      "userId": "16390917540151948122"
     },
     "user_tz": -330
    },
    "id": "Vf-1vDU2DqgW",
    "outputId": "cc4933c2-31df-4cfa-ac3e-a6102cf73142"
   },
   "outputs": [
    {
     "name": "stdout",
     "output_type": "stream",
     "text": [
      "(14, 8)\n"
     ]
    }
   ],
   "source": [
    "#print(X_test)"
   ]
  },
  {
   "cell_type": "code",
   "execution_count": null,
   "metadata": {
    "colab": {
     "base_uri": "https://localhost:8080/"
    },
    "executionInfo": {
     "elapsed": 1072,
     "status": "ok",
     "timestamp": 1611301581004,
     "user": {
      "displayName": "Atulya Kaushik",
      "photoUrl": "https://lh3.googleusercontent.com/a-/AOh14GgbdwwtUpDI6_ZCGNIh_WpVOrowFtjkOnV0PDGRUWfnsvK4VOwoMydLWUomfyM93wzmkYH2oqgNx5NSLSqCwoa5HZ_KxBpxL8GxQN8uRRDtlp3SF7wcGYbFZFH_-wGv0M1O2KeXvqvdFVMbO6RtG-EVC107IWjfYnisZUkM8Ja7dYlgfg4vGCuvxwSpOugEk-_tMkYzsphay8tNHrgG3yrTaxohPhYsZbAYi0JYfNJnfnJYtEefnN4DdpWwdMTR43XXEBkaNd2LOQ028uNa_dzM7_uFvPdiDJR7PXxt-BCtPa8KomMuLBFrxIZKJqikEr2mcXIK48msRSqnv4NsCFrkm5g7s_Sge09Qq5EbIJAVAlOygWUQ0rMQIi9PF-V5XchFYE7NxNmbEEWkHF2jj0zT_kMkV88DczewQCR-WVi0n_305dr7FNXptxwcp7Nc6FBrRIG33V_jElFZ9O7HrCG67QwhPeYVes0O0e48_eWU6XRxbkezYrcKRLDy047B0SHj1Ng96rQxd_YKoFAAgRqMCNunHXMQHQ5OKQv8uF8GnQ7llWSeYGkR14TPX3tWV5Qxy0fsbd3nhuKIvQe69YToY7HH5zp3JHSFbFvzCqvlDe-d2oOp0QPzN0ox3WYd1tJS6GyQ-r161Rq-5kA3Vusn7LzIL1hFwlRAfxH3j9uaHg4INCKONjhLm5c_IS-Pi64UL_tjiJM36PrtNUaQcS8-6y6qtDblN_Zg0r79t3D6gZ6OybTyIR8lOupyUc1BJIe4Eg=s64",
      "userId": "16390917540151948122"
     },
     "user_tz": -330
    },
    "id": "fykcMDsNDtJA",
    "outputId": "8be38da7-228e-4ca7-ba16-329c61bda897"
   },
   "outputs": [
    {
     "name": "stdout",
     "output_type": "stream",
     "text": [
      "[1 0 1 0 1 1 0 0 1 0 0 0 1 1 1 0 1 0 0 1 0 1 0 0 1 1 0 0 1 1 1 0 0 1 0 1 0\n",
      " 1 1 0 0 0 1 1 0 1 1 0 1 0 0 0 1 0 0 1]\n"
     ]
    }
   ],
   "source": [
    "#print(y_train)"
   ]
  },
  {
   "cell_type": "code",
   "execution_count": null,
   "metadata": {
    "colab": {
     "base_uri": "https://localhost:8080/"
    },
    "executionInfo": {
     "elapsed": 1097,
     "status": "ok",
     "timestamp": 1611301618726,
     "user": {
      "displayName": "Atulya Kaushik",
      "photoUrl": "https://lh3.googleusercontent.com/a-/AOh14GgbdwwtUpDI6_ZCGNIh_WpVOrowFtjkOnV0PDGRUWfnsvK4VOwoMydLWUomfyM93wzmkYH2oqgNx5NSLSqCwoa5HZ_KxBpxL8GxQN8uRRDtlp3SF7wcGYbFZFH_-wGv0M1O2KeXvqvdFVMbO6RtG-EVC107IWjfYnisZUkM8Ja7dYlgfg4vGCuvxwSpOugEk-_tMkYzsphay8tNHrgG3yrTaxohPhYsZbAYi0JYfNJnfnJYtEefnN4DdpWwdMTR43XXEBkaNd2LOQ028uNa_dzM7_uFvPdiDJR7PXxt-BCtPa8KomMuLBFrxIZKJqikEr2mcXIK48msRSqnv4NsCFrkm5g7s_Sge09Qq5EbIJAVAlOygWUQ0rMQIi9PF-V5XchFYE7NxNmbEEWkHF2jj0zT_kMkV88DczewQCR-WVi0n_305dr7FNXptxwcp7Nc6FBrRIG33V_jElFZ9O7HrCG67QwhPeYVes0O0e48_eWU6XRxbkezYrcKRLDy047B0SHj1Ng96rQxd_YKoFAAgRqMCNunHXMQHQ5OKQv8uF8GnQ7llWSeYGkR14TPX3tWV5Qxy0fsbd3nhuKIvQe69YToY7HH5zp3JHSFbFvzCqvlDe-d2oOp0QPzN0ox3WYd1tJS6GyQ-r161Rq-5kA3Vusn7LzIL1hFwlRAfxH3j9uaHg4INCKONjhLm5c_IS-Pi64UL_tjiJM36PrtNUaQcS8-6y6qtDblN_Zg0r79t3D6gZ6OybTyIR8lOupyUc1BJIe4Eg=s64",
      "userId": "16390917540151948122"
     },
     "user_tz": -330
    },
    "id": "bPLdwNWdD13h",
    "outputId": "751705f2-c109-46fc-d756-572ec9c952dd"
   },
   "outputs": [
    {
     "name": "stdout",
     "output_type": "stream",
     "text": [
      "[0 0 1 0 1 0 0 0 1 0 1 0 1 0]\n"
     ]
    }
   ],
   "source": [
    "#print(y_test)"
   ]
  },
  {
   "cell_type": "code",
   "execution_count": null,
   "metadata": {
    "colab": {
     "base_uri": "https://localhost:8080/"
    },
    "executionInfo": {
     "elapsed": 1431,
     "status": "ok",
     "timestamp": 1611302285719,
     "user": {
      "displayName": "Atulya Kaushik",
      "photoUrl": "https://lh3.googleusercontent.com/a-/AOh14GgbdwwtUpDI6_ZCGNIh_WpVOrowFtjkOnV0PDGRUWfnsvK4VOwoMydLWUomfyM93wzmkYH2oqgNx5NSLSqCwoa5HZ_KxBpxL8GxQN8uRRDtlp3SF7wcGYbFZFH_-wGv0M1O2KeXvqvdFVMbO6RtG-EVC107IWjfYnisZUkM8Ja7dYlgfg4vGCuvxwSpOugEk-_tMkYzsphay8tNHrgG3yrTaxohPhYsZbAYi0JYfNJnfnJYtEefnN4DdpWwdMTR43XXEBkaNd2LOQ028uNa_dzM7_uFvPdiDJR7PXxt-BCtPa8KomMuLBFrxIZKJqikEr2mcXIK48msRSqnv4NsCFrkm5g7s_Sge09Qq5EbIJAVAlOygWUQ0rMQIi9PF-V5XchFYE7NxNmbEEWkHF2jj0zT_kMkV88DczewQCR-WVi0n_305dr7FNXptxwcp7Nc6FBrRIG33V_jElFZ9O7HrCG67QwhPeYVes0O0e48_eWU6XRxbkezYrcKRLDy047B0SHj1Ng96rQxd_YKoFAAgRqMCNunHXMQHQ5OKQv8uF8GnQ7llWSeYGkR14TPX3tWV5Qxy0fsbd3nhuKIvQe69YToY7HH5zp3JHSFbFvzCqvlDe-d2oOp0QPzN0ox3WYd1tJS6GyQ-r161Rq-5kA3Vusn7LzIL1hFwlRAfxH3j9uaHg4INCKONjhLm5c_IS-Pi64UL_tjiJM36PrtNUaQcS8-6y6qtDblN_Zg0r79t3D6gZ6OybTyIR8lOupyUc1BJIe4Eg=s64",
      "userId": "16390917540151948122"
     },
     "user_tz": -330
    },
    "id": "GL__8qhIGYxI",
    "outputId": "f9246833-4673-4044-f115-cf64b8643e54"
   },
   "outputs": [
    {
     "name": "stdout",
     "output_type": "stream",
     "text": [
      "[[1.0 0.0 0.0 86.0 'yes' 'yes' -0.9941858494300262]\n",
      " [0.0 1.0 0.0 35.0 'no' 'yes' 0.9574354145081888]\n",
      " [1.0 0.0 0.0 75.0 'no' 'yes' -0.9012515035282065]\n",
      " [1.0 0.0 0.0 42.0 'no' 'no' 0.9574354145081888]\n",
      " [1.0 0.0 0.0 74.0 'yes' 'yes' -0.6224484658227473]\n",
      " [1.0 0.0 0.0 62.0 'yes' 'yes' -1.2729888871354855]\n",
      " [0.0 1.0 0.0 24.0 'no' 'no' 0.9574354145081888]\n",
      " [0.0 1.0 0.0 48.0 'no' 'yes' 1.0503697604100086]\n",
      " [1.0 0.0 0.0 58.0 'no' 'no' -1.0871201953318461]\n",
      " [0.0 1.0 0.0 45.130434782608695 'yes' 'no' 0.7715667227045493]\n",
      " [0.0 1.0 0.0 15.0 'no' 'no' 0.9574354145081888]\n",
      " [0.0 0.0 1.0 70.0 'no' 'yes' 0.5856980309009098]\n",
      " [1.0 0.0 0.0 52.0 'yes' 'yes' -0.1577767363136484]\n",
      " [1.0 0.0 0.0 60.0 'yes' 'yes' -1.2729888871354855]\n",
      " [1.0 0.0 0.0 54.0 'yes' 'yes' -1.0871201953318461]\n",
      " [0.0 0.0 1.0 29.0 'no' 'no' 1.0503697604100086]\n",
      " [1.0 0.0 0.0 78.0 'yes' 'yes' -0.9941858494300262]\n",
      " [1.0 0.0 0.0 36.0 'yes' 'no' 0.7715667227045493]\n",
      " [0.0 1.0 0.0 30.0 'yes' 'no' 0.3998293390972702]\n",
      " [1.0 0.0 0.0 50.0 'yes' 'yes' -0.4365797740191077]\n",
      " [0.0 0.0 1.0 18.0 'no' 'no' 1.0503697604100086]\n",
      " [1.0 0.0 0.0 69.0 'no' 'yes' -2.667004075662782]\n",
      " [0.0 0.0 1.0 10.0 'no' 'no' 1.4221071440172877]\n",
      " [1.0 0.0 0.0 26.0 'no' 'no' 1.1433041063118283]\n",
      " [0.0 1.0 0.0 18.0 'no' 'no' -1.4588575789391252]\n",
      " [1.0 0.0 0.0 62.0 'yes' 'yes' -1.1800545412336658]\n",
      " [0.0 1.0 0.0 13.0 'no' 'no' 1.0503697604100086]\n",
      " [1.0 0.0 0.0 40.0 'no' 'no' 0.9574354145081888]\n",
      " [1.0 0.0 0.0 84.0 'yes' 'yes' -0.6224484658227473]\n",
      " [1.0 0.0 0.0 76.0 'yes' 'yes' -0.1577767363136484]\n",
      " [1.0 0.0 0.0 81.0 'yes' 'yes' -0.6224484658227473]\n",
      " [0.0 1.0 0.0 25.0 'no' 'no' 1.0503697604100086]\n",
      " [0.0 1.0 0.0 32.0 'no' 'yes' 0.21396064729363065]\n",
      " [1.0 0.0 0.0 56.0 'yes' 'yes' -0.4365797740191077]\n",
      " [0.0 1.0 0.0 35.0 'no' 'no' 0.6786323768027296]\n",
      " [1.0 0.0 0.0 63.0 'yes' 'yes' -1.4588575789391252]\n",
      " [0.0 0.0 1.0 28.0 'no' 'no' 0.6786323768027296]\n",
      " [1.0 0.0 0.0 56.0 'yes' 'no' -0.5295141199209275]\n",
      " [1.0 0.0 0.0 90.0 'yes' 'yes' -1.3659232330373055]\n",
      " [0.0 0.0 1.0 17.0 'no' 'no' 1.0503697604100086]\n",
      " [0.0 1.0 0.0 40.0 'no' 'yes' 0.7715667227045493]\n",
      " [0.0 1.0 0.0 61.0 'no' 'yes' 0.7715667227045493]\n",
      " [1.0 0.0 0.0 82.0 'yes' 'yes' -0.8083171576263868]\n",
      " [0.0 1.0 0.0 49.0 'no' 'no' -0.1577767363136484]\n",
      " [0.0 1.0 0.0 32.0 'no' 'no' 0.6786323768027296]\n",
      " [1.0 0.0 0.0 59.0 'no' 'yes' -1.1800545412336658]\n",
      " [1.0 0.0 0.0 86.0 'no' 'yes' -0.5295141199209275]\n",
      " [0.0 0.0 1.0 12.0 'no' 'no' 1.4221071440172877]\n",
      " [1.0 0.0 0.0 61.0 'yes' 'yes' -0.5295141199209275]\n",
      " [0.0 0.0 1.0 19.0 'no' 'no' 0.6786323768027296]\n",
      " [0.0 0.0 1.0 15.0 'no' 'no' 1.1433041063118283]\n",
      " [0.0 0.0 1.0 26.0 'no' 'no' 0.034826328381426956]\n",
      " [0.0 1.0 0.0 30.0 'no' 'no' -1.8305949625464042]\n",
      " [1.0 0.0 0.0 80.0 'no' 'yes' 0.9574354145081888]\n",
      " [0.0 0.0 1.0 20.0 'no' 'no' 0.9574354145081888]\n",
      " [1.0 0.0 0.0 64.0 'yes' 'yes' -0.8083171576263868]]\n"
     ]
    }
   ],
   "source": [
    "#print(X_train)"
   ]
  },
  {
   "cell_type": "code",
   "execution_count": 90,
   "metadata": {},
   "outputs": [
    {
     "name": "stdout",
     "output_type": "stream",
     "text": [
      "Accuracy: 0.6713168064850599\n",
      "                      precision    recall  f1-score   support\n",
      "\n",
      "             Anxiety       0.93      0.32      0.48       779\n",
      "             Bipolar       0.99      0.31      0.47       581\n",
      "          Depression       0.52      0.82      0.64      3038\n",
      "              Normal       0.81      0.95      0.87      3351\n",
      "Personality disorder       0.64      0.36      0.46       247\n",
      "              Stress       0.98      0.21      0.35       529\n",
      "            Suicidal       0.71      0.39      0.51      2083\n",
      "             unknown       0.00      0.00      0.00         1\n",
      "\n",
      "            accuracy                           0.67     10609\n",
      "           macro avg       0.70      0.42      0.47     10609\n",
      "        weighted avg       0.73      0.67      0.65     10609\n",
      "\n"
     ]
    }
   ],
   "source": [
    "import numpy as np\n",
    "import pandas as pd\n",
    "from sklearn.feature_extraction.text import TfidfVectorizer\n",
    "from sklearn.model_selection import train_test_split\n",
    "from sklearn.ensemble import RandomForestClassifier\n",
    "from sklearn.metrics import accuracy_score, classification_report\n",
    "\n",
    "# Load the dataset\n",
    "data_set = pd.read_csv('Combined_Data.csv')\n",
    "\n",
    "# Fill NaN values in the 'statement' column with a placeholder\n",
    "data_set['statement'] = data_set['statement'].fillna('missing')\n",
    "\n",
    "# Define the independent variables (X) and the target variable (y)\n",
    "X = data_set['statement'].values\n",
    "y = data_set['status'].values\n",
    "\n",
    "# Convert text data to numerical data using TF-IDF\n",
    "vectorizer = TfidfVectorizer()\n",
    "X = vectorizer.fit_transform(X)\n",
    "\n",
    "# Split the dataset into training and testing sets\n",
    "X_train, X_test, y_train, y_test = train_test_split(X, y, test_size=0.2, random_state=42)\n",
    "\n",
    "# Check for and handle any remaining NaNs in the target variable (y)\n",
    "y_train = pd.Series(y_train).fillna('unknown').values\n",
    "y_test = pd.Series(y_test).fillna('unknown').values\n",
    "\n",
    "# Train the RandomForestClassifier model\n",
    "model = RandomForestClassifier(n_estimators=100, random_state=42)\n",
    "model.fit(X_train, y_train)\n",
    "\n",
    "# Evaluate the model\n",
    "y_pred = model.predict(X_test)\n",
    "print(\"Accuracy:\", accuracy_score(y_test, y_pred))\n",
    "print(classification_report(y_test, y_pred))\n",
    "\n",
    "\n"
   ]
  },
  {
   "cell_type": "code",
   "execution_count": 97,
   "metadata": {},
   "outputs": [
    {
     "name": "stdout",
     "output_type": "stream",
     "text": [
      "Hi! How are you feeling today?\n",
      "Prediction: Depression\n"
     ]
    }
   ],
   "source": [
    "# Function to predict the state based on user input\n",
    "def predict_state(statement):\n",
    "    transformed_statement = vectorizer.transform([statement])\n",
    "    prediction = model.predict(transformed_statement)\n",
    "    return prediction[0]\n",
    "\n",
    "# Example usage with user input\n",
    "print(\"Hi! How are you feeling today?\")\n",
    "user_input = input(\"Your input: \")\n",
    "\n",
    "result = predict_state(user_input)\n",
    "print(\"Prediction:\", result)"
   ]
  },
  {
   "cell_type": "code",
   "execution_count": null,
   "metadata": {},
   "outputs": [
    {
     "name": "stdout",
     "output_type": "stream",
     "text": [
      "Accuracy: 1.0\n",
      "              precision    recall  f1-score   support\n",
      "\n",
      "           0       1.00      1.00      1.00         9\n",
      "           1       1.00      1.00      1.00         5\n",
      "\n",
      "    accuracy                           1.00        14\n",
      "   macro avg       1.00      1.00      1.00        14\n",
      "weighted avg       1.00      1.00      1.00        14\n",
      "\n"
     ]
    }
   ],
   "source": [
    "# Hospitalization prediction program\n",
    "import numpy as np\n",
    "import pandas as pd\n",
    "from sklearn.impute import SimpleImputer\n",
    "from sklearn.compose import ColumnTransformer\n",
    "from sklearn.preprocessing import OneHotEncoder, LabelEncoder\n",
    "from sklearn.model_selection import train_test_split\n",
    "from sklearn.ensemble import RandomForestClassifier\n",
    "from sklearn.metrics import accuracy_score, classification_report\n",
    "\n",
    "# Load the dataset\n",
    "#data_path = "D:\\Resources_main\\Resources\\Covid_Data.csv\" ABSOLUTE PATH(DO NOT USE)\n",
    "data_path = "Covid_Data.csv" # RELATIVE PATH\n",
    "data_set = pd.read_csv(data_path)\n",
    "\n",
    "# Define the independent variables (X) and the target variable (y)\n",
    "X = data_set.iloc[:, :-1].values\n",
    "y = data_set.iloc[:, -1].values\n",
    "\n",
    "# Handle missing values\n",
    "imputer = SimpleImputer(missing_values=np.nan, strategy='mean')\n",
    "imputer.fit(X[:, [0, 4]])  # Assuming age is in column 0 and Blood_O2_Level_in_Percentage is in column 4\n",
    "X[:, [0, 4]] = imputer.transform(X[:, [0, 4]])\n",
    "\n",
    "# Encode categorical variables (body_temperature, chronic_disease, breathing_issue)\n",
    "ct = ColumnTransformer(transformers=[('encoder', OneHotEncoder(handle_unknown='ignore'), [1, 2, 3])], remainder='passthrough')\n",
    "X = np.array(ct.fit_transform(X))\n",
    "\n",
    "# Encode the target variable (Needed_Hospitalisation)\n",
    "le = LabelEncoder()\n",
    "y = le.fit_transform(y)\n",
    "\n",
    "# Split the dataset into training and testing sets\n",
    "X_train, X_test, y_train, y_test = train_test_split(X, y, test_size=0.2, random_state=42)\n",
    "\n",
    "# Train the RandomForestClassifier model\n",
    "model = RandomForestClassifier(n_estimators=100, random_state=42)\n",
    "model.fit(X_train, y_train)\n",
    "\n",
    "# Evaluate the model\n",
    "y_pred = model.predict(X_test)\n",
    "print(\"Accuracy:\", accuracy_score(y_test, y_pred))\n",
    "print(classification_report(y_test, y_pred))\n",
    "\n",
    "# Function to predict hospitalization based on user input\n",
    "def predict_hospitalization(age, Blood_O2_Level_in_Percentage, body_temperature, chronic_disease, breathing_issue):\n",
    "    input_data = np.array([[age, body_temperature, chronic_disease, breathing_issue, Blood_O2_Level_in_Percentage]])\n",
    "    input_data = ct.transform(input_data)\n",
    "    prediction = model.predict(input_data)\n",
    "    return le.inverse_transform(prediction)[0]\n",
    "\n",
    "\n"
   ]
  },
  {
   "cell_type": "code",
   "execution_count": 99,
   "metadata": {},
   "outputs": [
    {
     "name": "stdout",
     "output_type": "stream",
     "text": [
      "Prediction: No\n"
     ]
    }
   ],
   "source": [
    "age = int(input(\"Enter age: \"))\n",
    "Blood_O2_Level_in_Percentage = int(input(\"Enter Blood O2 Level in Percentage: \"))\n",
    "body_temperature = input(\"Enter body temperature: High/Low\")\n",
    "chronic_disease = input(\"Do you have any chronic disease? Yes/No\")\n",
    "breathing_issue = input(\"Do you have any breathing issues? Yes/No\")\n",
    "result = predict_hospitalization(age, Blood_O2_Level_in_Percentage, body_temperature, chronic_disease, breathing_issue)\n",
    "print(\"Prediction:\", result)"
   ]
  }
 ],
 "metadata": {
  "colab": {
   "authorship_tag": "ABX9TyOt6xk9UMd/GwWEPGvvxJZv",
   "name": "Data Preprocessing Working Copy.ipynb",
   "provenance": [
    {
     "file_id": "1nEGJqEW-_F3aMMXY1s0E28eyody3vwoT",
     "timestamp": 1611144461754
    }
   ],
   "toc_visible": true
  },
  "kernelspec": {
   "display_name": "Python 3",
   "name": "python3"
  },
  "language_info": {
   "codemirror_mode": {
    "name": "ipython",
    "version": 3
   },
   "file_extension": ".py",
   "mimetype": "text/x-python",
   "name": "python",
   "nbconvert_exporter": "python",
   "pygments_lexer": "ipython3",
   "version": "3.13.2"
  }
 },
 "nbformat": 4,
 "nbformat_minor": 0
}
